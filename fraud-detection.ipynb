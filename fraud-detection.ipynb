{
 "cells": [
  {
   "cell_type": "code",
   "execution_count": 1,
   "metadata": {
    "_cell_guid": "b1076dfc-b9ad-4769-8c92-a6c4dae69d19",
    "_uuid": "8f2839f25d086af736a60e9eeb907d3b93b6e0e5"
   },
   "outputs": [
    {
     "data": {
      "text/html": [
       "<div>\n",
       "<style scoped>\n",
       "    .dataframe tbody tr th:only-of-type {\n",
       "        vertical-align: middle;\n",
       "    }\n",
       "\n",
       "    .dataframe tbody tr th {\n",
       "        vertical-align: top;\n",
       "    }\n",
       "\n",
       "    .dataframe thead th {\n",
       "        text-align: right;\n",
       "    }\n",
       "</style>\n",
       "<table border=\"1\" class=\"dataframe\">\n",
       "  <thead>\n",
       "    <tr style=\"text-align: right;\">\n",
       "      <th></th>\n",
       "      <th>TransactionID</th>\n",
       "      <th>id_01</th>\n",
       "      <th>id_02</th>\n",
       "      <th>id_03</th>\n",
       "      <th>id_04</th>\n",
       "      <th>id_05</th>\n",
       "      <th>id_06</th>\n",
       "      <th>id_07</th>\n",
       "      <th>id_08</th>\n",
       "      <th>id_09</th>\n",
       "      <th>...</th>\n",
       "      <th>id_31</th>\n",
       "      <th>id_32</th>\n",
       "      <th>id_33</th>\n",
       "      <th>id_34</th>\n",
       "      <th>id_35</th>\n",
       "      <th>id_36</th>\n",
       "      <th>id_37</th>\n",
       "      <th>id_38</th>\n",
       "      <th>DeviceType</th>\n",
       "      <th>DeviceInfo</th>\n",
       "    </tr>\n",
       "  </thead>\n",
       "  <tbody>\n",
       "    <tr>\n",
       "      <th>0</th>\n",
       "      <td>2987004</td>\n",
       "      <td>0.0</td>\n",
       "      <td>70787.0</td>\n",
       "      <td>NaN</td>\n",
       "      <td>NaN</td>\n",
       "      <td>NaN</td>\n",
       "      <td>NaN</td>\n",
       "      <td>NaN</td>\n",
       "      <td>NaN</td>\n",
       "      <td>NaN</td>\n",
       "      <td>...</td>\n",
       "      <td>samsung browser 6.2</td>\n",
       "      <td>32.0</td>\n",
       "      <td>2220x1080</td>\n",
       "      <td>match_status:2</td>\n",
       "      <td>T</td>\n",
       "      <td>F</td>\n",
       "      <td>T</td>\n",
       "      <td>T</td>\n",
       "      <td>mobile</td>\n",
       "      <td>SAMSUNG SM-G892A Build/NRD90M</td>\n",
       "    </tr>\n",
       "    <tr>\n",
       "      <th>1</th>\n",
       "      <td>2987008</td>\n",
       "      <td>-5.0</td>\n",
       "      <td>98945.0</td>\n",
       "      <td>NaN</td>\n",
       "      <td>NaN</td>\n",
       "      <td>0.0</td>\n",
       "      <td>-5.0</td>\n",
       "      <td>NaN</td>\n",
       "      <td>NaN</td>\n",
       "      <td>NaN</td>\n",
       "      <td>...</td>\n",
       "      <td>mobile safari 11.0</td>\n",
       "      <td>32.0</td>\n",
       "      <td>1334x750</td>\n",
       "      <td>match_status:1</td>\n",
       "      <td>T</td>\n",
       "      <td>F</td>\n",
       "      <td>F</td>\n",
       "      <td>T</td>\n",
       "      <td>mobile</td>\n",
       "      <td>iOS Device</td>\n",
       "    </tr>\n",
       "    <tr>\n",
       "      <th>2</th>\n",
       "      <td>2987010</td>\n",
       "      <td>-5.0</td>\n",
       "      <td>191631.0</td>\n",
       "      <td>0.0</td>\n",
       "      <td>0.0</td>\n",
       "      <td>0.0</td>\n",
       "      <td>0.0</td>\n",
       "      <td>NaN</td>\n",
       "      <td>NaN</td>\n",
       "      <td>0.0</td>\n",
       "      <td>...</td>\n",
       "      <td>chrome 62.0</td>\n",
       "      <td>NaN</td>\n",
       "      <td>NaN</td>\n",
       "      <td>NaN</td>\n",
       "      <td>F</td>\n",
       "      <td>F</td>\n",
       "      <td>T</td>\n",
       "      <td>T</td>\n",
       "      <td>desktop</td>\n",
       "      <td>Windows</td>\n",
       "    </tr>\n",
       "    <tr>\n",
       "      <th>3</th>\n",
       "      <td>2987011</td>\n",
       "      <td>-5.0</td>\n",
       "      <td>221832.0</td>\n",
       "      <td>NaN</td>\n",
       "      <td>NaN</td>\n",
       "      <td>0.0</td>\n",
       "      <td>-6.0</td>\n",
       "      <td>NaN</td>\n",
       "      <td>NaN</td>\n",
       "      <td>NaN</td>\n",
       "      <td>...</td>\n",
       "      <td>chrome 62.0</td>\n",
       "      <td>NaN</td>\n",
       "      <td>NaN</td>\n",
       "      <td>NaN</td>\n",
       "      <td>F</td>\n",
       "      <td>F</td>\n",
       "      <td>T</td>\n",
       "      <td>T</td>\n",
       "      <td>desktop</td>\n",
       "      <td>NaN</td>\n",
       "    </tr>\n",
       "    <tr>\n",
       "      <th>4</th>\n",
       "      <td>2987016</td>\n",
       "      <td>0.0</td>\n",
       "      <td>7460.0</td>\n",
       "      <td>0.0</td>\n",
       "      <td>0.0</td>\n",
       "      <td>1.0</td>\n",
       "      <td>0.0</td>\n",
       "      <td>NaN</td>\n",
       "      <td>NaN</td>\n",
       "      <td>0.0</td>\n",
       "      <td>...</td>\n",
       "      <td>chrome 62.0</td>\n",
       "      <td>24.0</td>\n",
       "      <td>1280x800</td>\n",
       "      <td>match_status:2</td>\n",
       "      <td>T</td>\n",
       "      <td>F</td>\n",
       "      <td>T</td>\n",
       "      <td>T</td>\n",
       "      <td>desktop</td>\n",
       "      <td>MacOS</td>\n",
       "    </tr>\n",
       "  </tbody>\n",
       "</table>\n",
       "<p>5 rows × 41 columns</p>\n",
       "</div>"
      ],
      "text/plain": [
       "   TransactionID  id_01     id_02  id_03  id_04  id_05  id_06  id_07  id_08  \\\n",
       "0        2987004    0.0   70787.0    NaN    NaN    NaN    NaN    NaN    NaN   \n",
       "1        2987008   -5.0   98945.0    NaN    NaN    0.0   -5.0    NaN    NaN   \n",
       "2        2987010   -5.0  191631.0    0.0    0.0    0.0    0.0    NaN    NaN   \n",
       "3        2987011   -5.0  221832.0    NaN    NaN    0.0   -6.0    NaN    NaN   \n",
       "4        2987016    0.0    7460.0    0.0    0.0    1.0    0.0    NaN    NaN   \n",
       "\n",
       "   id_09  ...                id_31  id_32      id_33           id_34  id_35  \\\n",
       "0    NaN  ...  samsung browser 6.2   32.0  2220x1080  match_status:2      T   \n",
       "1    NaN  ...   mobile safari 11.0   32.0   1334x750  match_status:1      T   \n",
       "2    0.0  ...          chrome 62.0    NaN        NaN             NaN      F   \n",
       "3    NaN  ...          chrome 62.0    NaN        NaN             NaN      F   \n",
       "4    0.0  ...          chrome 62.0   24.0   1280x800  match_status:2      T   \n",
       "\n",
       "  id_36 id_37  id_38  DeviceType                     DeviceInfo  \n",
       "0     F     T      T      mobile  SAMSUNG SM-G892A Build/NRD90M  \n",
       "1     F     F      T      mobile                     iOS Device  \n",
       "2     F     T      T     desktop                        Windows  \n",
       "3     F     T      T     desktop                            NaN  \n",
       "4     F     T      T     desktop                          MacOS  \n",
       "\n",
       "[5 rows x 41 columns]"
      ]
     },
     "execution_count": 1,
     "metadata": {},
     "output_type": "execute_result"
    }
   ],
   "source": [
    "import numpy as np\n",
    "import pandas as pd\n",
    "import gc\n",
    "\n",
    "datasetPath = ''\n",
    "\n",
    "trainID = pd.read_csv(datasetPath+'train_identity.csv', encoding='utf-8')\n",
    "trainID.head()"
   ]
  },
  {
   "cell_type": "code",
   "execution_count": 2,
   "metadata": {},
   "outputs": [
    {
     "data": {
      "text/plain": [
       "id_24            96.708798\n",
       "id_25            96.441868\n",
       "id_07            96.425922\n",
       "id_08            96.425922\n",
       "id_21            96.423149\n",
       "id_26            96.420375\n",
       "id_23            96.416215\n",
       "id_27            96.416215\n",
       "id_22            96.416215\n",
       "id_18            68.722137\n",
       "id_03            54.016071\n",
       "id_04            54.016071\n",
       "id_33            49.187079\n",
       "id_09            48.052110\n",
       "id_10            48.052110\n",
       "id_30            46.222432\n",
       "id_32            46.207872\n",
       "id_34            46.056034\n",
       "id_14            44.503685\n",
       "DeviceInfo       17.726179\n",
       "id_13            11.726165\n",
       "id_16            10.325654\n",
       "id_06             5.108401\n",
       "id_05             5.108401\n",
       "id_20             3.447200\n",
       "id_19             3.407681\n",
       "id_17             3.372321\n",
       "id_31             2.739318\n",
       "DeviceType        2.373243\n",
       "id_02             2.330257\n",
       "id_28             2.256765\n",
       "id_29             2.256765\n",
       "id_11             2.256765\n",
       "id_15             2.251912\n",
       "id_35             2.251912\n",
       "id_36             2.251912\n",
       "id_37             2.251912\n",
       "id_38             2.251912\n",
       "id_01             0.000000\n",
       "id_12             0.000000\n",
       "TransactionID     0.000000\n",
       "dtype: float64"
      ]
     },
     "execution_count": 2,
     "metadata": {},
     "output_type": "execute_result"
    }
   ],
   "source": [
    "((trainID.isna().sum()/trainID.shape[0])*100).sort_values(ascending=False)"
   ]
  },
  {
   "cell_type": "markdown",
   "metadata": {},
   "source": [
    "Some columns have 96% NaN values !"
   ]
  },
  {
   "cell_type": "markdown",
   "metadata": {},
   "source": [
    "<h3>Train Transaction dataset:</h3>"
   ]
  },
  {
   "cell_type": "code",
   "execution_count": 3,
   "metadata": {},
   "outputs": [
    {
     "data": {
      "text/html": [
       "<div>\n",
       "<style scoped>\n",
       "    .dataframe tbody tr th:only-of-type {\n",
       "        vertical-align: middle;\n",
       "    }\n",
       "\n",
       "    .dataframe tbody tr th {\n",
       "        vertical-align: top;\n",
       "    }\n",
       "\n",
       "    .dataframe thead th {\n",
       "        text-align: right;\n",
       "    }\n",
       "</style>\n",
       "<table border=\"1\" class=\"dataframe\">\n",
       "  <thead>\n",
       "    <tr style=\"text-align: right;\">\n",
       "      <th></th>\n",
       "      <th>TransactionID</th>\n",
       "      <th>isFraud</th>\n",
       "      <th>TransactionDT</th>\n",
       "      <th>TransactionAmt</th>\n",
       "      <th>ProductCD</th>\n",
       "      <th>card1</th>\n",
       "      <th>card2</th>\n",
       "      <th>card3</th>\n",
       "      <th>card4</th>\n",
       "      <th>card5</th>\n",
       "      <th>...</th>\n",
       "      <th>V330</th>\n",
       "      <th>V331</th>\n",
       "      <th>V332</th>\n",
       "      <th>V333</th>\n",
       "      <th>V334</th>\n",
       "      <th>V335</th>\n",
       "      <th>V336</th>\n",
       "      <th>V337</th>\n",
       "      <th>V338</th>\n",
       "      <th>V339</th>\n",
       "    </tr>\n",
       "  </thead>\n",
       "  <tbody>\n",
       "    <tr>\n",
       "      <th>0</th>\n",
       "      <td>2987000</td>\n",
       "      <td>0</td>\n",
       "      <td>86400</td>\n",
       "      <td>68.5</td>\n",
       "      <td>W</td>\n",
       "      <td>13926</td>\n",
       "      <td>NaN</td>\n",
       "      <td>150.0</td>\n",
       "      <td>discover</td>\n",
       "      <td>142.0</td>\n",
       "      <td>...</td>\n",
       "      <td>NaN</td>\n",
       "      <td>NaN</td>\n",
       "      <td>NaN</td>\n",
       "      <td>NaN</td>\n",
       "      <td>NaN</td>\n",
       "      <td>NaN</td>\n",
       "      <td>NaN</td>\n",
       "      <td>NaN</td>\n",
       "      <td>NaN</td>\n",
       "      <td>NaN</td>\n",
       "    </tr>\n",
       "    <tr>\n",
       "      <th>1</th>\n",
       "      <td>2987001</td>\n",
       "      <td>0</td>\n",
       "      <td>86401</td>\n",
       "      <td>29.0</td>\n",
       "      <td>W</td>\n",
       "      <td>2755</td>\n",
       "      <td>404.0</td>\n",
       "      <td>150.0</td>\n",
       "      <td>mastercard</td>\n",
       "      <td>102.0</td>\n",
       "      <td>...</td>\n",
       "      <td>NaN</td>\n",
       "      <td>NaN</td>\n",
       "      <td>NaN</td>\n",
       "      <td>NaN</td>\n",
       "      <td>NaN</td>\n",
       "      <td>NaN</td>\n",
       "      <td>NaN</td>\n",
       "      <td>NaN</td>\n",
       "      <td>NaN</td>\n",
       "      <td>NaN</td>\n",
       "    </tr>\n",
       "    <tr>\n",
       "      <th>2</th>\n",
       "      <td>2987002</td>\n",
       "      <td>0</td>\n",
       "      <td>86469</td>\n",
       "      <td>59.0</td>\n",
       "      <td>W</td>\n",
       "      <td>4663</td>\n",
       "      <td>490.0</td>\n",
       "      <td>150.0</td>\n",
       "      <td>visa</td>\n",
       "      <td>166.0</td>\n",
       "      <td>...</td>\n",
       "      <td>NaN</td>\n",
       "      <td>NaN</td>\n",
       "      <td>NaN</td>\n",
       "      <td>NaN</td>\n",
       "      <td>NaN</td>\n",
       "      <td>NaN</td>\n",
       "      <td>NaN</td>\n",
       "      <td>NaN</td>\n",
       "      <td>NaN</td>\n",
       "      <td>NaN</td>\n",
       "    </tr>\n",
       "    <tr>\n",
       "      <th>3</th>\n",
       "      <td>2987003</td>\n",
       "      <td>0</td>\n",
       "      <td>86499</td>\n",
       "      <td>50.0</td>\n",
       "      <td>W</td>\n",
       "      <td>18132</td>\n",
       "      <td>567.0</td>\n",
       "      <td>150.0</td>\n",
       "      <td>mastercard</td>\n",
       "      <td>117.0</td>\n",
       "      <td>...</td>\n",
       "      <td>NaN</td>\n",
       "      <td>NaN</td>\n",
       "      <td>NaN</td>\n",
       "      <td>NaN</td>\n",
       "      <td>NaN</td>\n",
       "      <td>NaN</td>\n",
       "      <td>NaN</td>\n",
       "      <td>NaN</td>\n",
       "      <td>NaN</td>\n",
       "      <td>NaN</td>\n",
       "    </tr>\n",
       "    <tr>\n",
       "      <th>4</th>\n",
       "      <td>2987004</td>\n",
       "      <td>0</td>\n",
       "      <td>86506</td>\n",
       "      <td>50.0</td>\n",
       "      <td>H</td>\n",
       "      <td>4497</td>\n",
       "      <td>514.0</td>\n",
       "      <td>150.0</td>\n",
       "      <td>mastercard</td>\n",
       "      <td>102.0</td>\n",
       "      <td>...</td>\n",
       "      <td>0.0</td>\n",
       "      <td>0.0</td>\n",
       "      <td>0.0</td>\n",
       "      <td>0.0</td>\n",
       "      <td>0.0</td>\n",
       "      <td>0.0</td>\n",
       "      <td>0.0</td>\n",
       "      <td>0.0</td>\n",
       "      <td>0.0</td>\n",
       "      <td>0.0</td>\n",
       "    </tr>\n",
       "  </tbody>\n",
       "</table>\n",
       "<p>5 rows × 394 columns</p>\n",
       "</div>"
      ],
      "text/plain": [
       "   TransactionID  isFraud  TransactionDT  TransactionAmt ProductCD  card1  \\\n",
       "0        2987000        0          86400            68.5         W  13926   \n",
       "1        2987001        0          86401            29.0         W   2755   \n",
       "2        2987002        0          86469            59.0         W   4663   \n",
       "3        2987003        0          86499            50.0         W  18132   \n",
       "4        2987004        0          86506            50.0         H   4497   \n",
       "\n",
       "   card2  card3       card4  card5  ... V330  V331  V332  V333  V334 V335  \\\n",
       "0    NaN  150.0    discover  142.0  ...  NaN   NaN   NaN   NaN   NaN  NaN   \n",
       "1  404.0  150.0  mastercard  102.0  ...  NaN   NaN   NaN   NaN   NaN  NaN   \n",
       "2  490.0  150.0        visa  166.0  ...  NaN   NaN   NaN   NaN   NaN  NaN   \n",
       "3  567.0  150.0  mastercard  117.0  ...  NaN   NaN   NaN   NaN   NaN  NaN   \n",
       "4  514.0  150.0  mastercard  102.0  ...  0.0   0.0   0.0   0.0   0.0  0.0   \n",
       "\n",
       "  V336  V337  V338  V339  \n",
       "0  NaN   NaN   NaN   NaN  \n",
       "1  NaN   NaN   NaN   NaN  \n",
       "2  NaN   NaN   NaN   NaN  \n",
       "3  NaN   NaN   NaN   NaN  \n",
       "4  0.0   0.0   0.0   0.0  \n",
       "\n",
       "[5 rows x 394 columns]"
      ]
     },
     "execution_count": 3,
     "metadata": {},
     "output_type": "execute_result"
    }
   ],
   "source": [
    "trainTR = pd.read_csv(datasetPath+'train_transaction.csv', encoding='utf-8')\n",
    "trainTR.head()"
   ]
  },
  {
   "cell_type": "code",
   "execution_count": 4,
   "metadata": {},
   "outputs": [
    {
     "data": {
      "text/plain": [
       "dist2            93.628374\n",
       "D7               93.409930\n",
       "D13              89.509263\n",
       "D14              89.469469\n",
       "D12              89.041047\n",
       "                   ...    \n",
       "C1                0.000000\n",
       "C2                0.000000\n",
       "C14               0.000000\n",
       "isFraud           0.000000\n",
       "TransactionID     0.000000\n",
       "Length: 394, dtype: float64"
      ]
     },
     "execution_count": 4,
     "metadata": {},
     "output_type": "execute_result"
    }
   ],
   "source": [
    "((trainTR.isna().sum()/trainTR.shape[0])*100).sort_values(ascending=False)"
   ]
  },
  {
   "cell_type": "code",
   "execution_count": 5,
   "metadata": {},
   "outputs": [
    {
     "data": {
      "text/plain": [
       "6.066640046296296"
      ]
     },
     "execution_count": 5,
     "metadata": {},
     "output_type": "execute_result"
    }
   ],
   "source": [
    "(trainTR['TransactionDT'].max() - trainTR['TransactionDT'].min())/(60*60*24*30)"
   ]
  },
  {
   "cell_type": "markdown",
   "metadata": {},
   "source": [
    "The data is made from the last 6 months"
   ]
  },
  {
   "cell_type": "code",
   "execution_count": 6,
   "metadata": {},
   "outputs": [
    {
     "name": "stdout",
     "output_type": "stream",
     "text": [
      "Percent of NaN: 76.35536966166559\n",
      "4           0.000000\n",
      "8           0.000000\n",
      "10        166.215393\n",
      "11          0.000000\n",
      "16          0.000000\n",
      "             ...    \n",
      "590521    451.078796\n",
      "590526      0.000000\n",
      "590529      0.000000\n",
      "590531      0.000000\n",
      "590534      0.000000\n",
      "Name: V202, Length: 139631, dtype: float64\n"
     ]
    }
   ],
   "source": [
    "tab = 'V202'\n",
    "print(\"Percent of NaN:\", (trainTR[tab].isna().sum()/trainTR[tab].shape[0])*100)\n",
    "print(trainTR[tab][trainTR[tab].notna()])\n",
    "del tab"
   ]
  },
  {
   "cell_type": "markdown",
   "metadata": {},
   "source": [
    "Quite a strange data, all the VS data are (according to vesta): \"engineered rich features, including ranking, counting, and other entity relations.\""
   ]
  },
  {
   "cell_type": "code",
   "execution_count": 7,
   "metadata": {},
   "outputs": [
    {
     "name": "stdout",
     "output_type": "stream",
     "text": [
      "0    569877\n",
      "1     20663\n",
      "Name: isFraud, dtype: int64\n",
      "0    0.96501\n",
      "1    0.03499\n",
      "Name: isFraud, dtype: float64\n"
     ]
    }
   ],
   "source": [
    "print(trainTR['isFraud'].value_counts(normalize=False))\n",
    "print(trainTR['isFraud'].value_counts(normalize=True))"
   ]
  },
  {
   "cell_type": "markdown",
   "metadata": {},
   "source": [
    "Only 3.5% (20663) are fraudulous transactions"
   ]
  },
  {
   "cell_type": "markdown",
   "metadata": {},
   "source": [
    "**What we know so far:**\n",
    "\n",
    "Not useful:\n",
    "* TransactionID\n",
    "* TransactionDT\n",
    "* isFraud\n",
    "\n",
    "Transaction Table - Categorical Features:\n",
    "* ProductCD\n",
    "* card1 - card6\n",
    "* addr1, addr2\n",
    "* P_emaildomain\n",
    "* R_emaildomain\n",
    "* M1 - M9\n",
    "\n",
    "Identity Table - Categorical Features:\n",
    "* Categorical Features:\n",
    "* DeviceType\n",
    "* DeviceInfo\n",
    "* id_12 - id_38"
   ]
  },
  {
   "cell_type": "markdown",
   "metadata": {},
   "source": [
    "<h2>2. Preprocess the data:</h2>\n",
    "\n",
    "* Left join the dataframes\n",
    "* Drop columns with more than 90% NaN\n",
    "* Convert the NaN\n",
    "* Separate fraudulent transactions from normal\n",
    "* Encode categorical features\n",
    "* Normalize input vectors\n",
    "* Make a validation set from 10% of normal transactions"
   ]
  },
  {
   "cell_type": "code",
   "execution_count": 8,
   "metadata": {},
   "outputs": [],
   "source": [
    "to_replace = ['dist2', 'D6', 'D7', 'D8', 'D9', 'D12', 'D13', 'D14', 'V138', 'V139', 'V140', 'V141', 'V142', 'V143', 'V144', 'V145', 'V146', 'V147', 'V148', 'V149'\n",
    "              , 'V150', 'V151', 'V152', 'V153', 'V154', 'V155', 'V156', 'V157', 'V158', 'V159', 'V160', 'V161', 'V162', 'V163', 'V164', 'V165', 'V166', 'V322'\n",
    "              , 'V323', 'V324', 'V325', 'V326', 'V327', 'V328', 'V329', 'V330', 'V331', 'V332', 'V333', 'V334', 'V335', 'V336', 'V337', 'V338', 'V339', 'id_03'\n",
    "              , 'id_04', 'id_07', 'id_08', 'id_09', 'id_10']\n",
    "\n",
    "def make_hour_feature(f):\n",
    "    #Creates an hour of the day feature, encoded as 0-23.  \n",
    "    hours = f / (3600)        \n",
    "    encoded_hours = np.floor(hours) % 24\n",
    "    return encoded_hours\n",
    "\n",
    "def preprocessData(dataTR, dataID, training=True):\n",
    "    global to_replace\n",
    "    train = pd.merge(dataTR, dataID, on='TransactionID', how='left')\n",
    "    del dataTR; del dataID\n",
    "    \n",
    "    train['hour'] = make_hour_feature(train['TransactionDT'])\n",
    "\n",
    "    cat_features = ['ProductCD', 'card1', 'card2', 'card3', 'card4', 'card5', 'card6', 'addr1', 'addr2', 'P_emaildomain', 'R_emaildomain'\n",
    "                    , 'M1', 'M2', 'M3', 'M4', 'M5', 'M6', 'M7', 'M8', 'M9', 'DeviceType', 'DeviceInfo'\n",
    "                    , 'id_12', 'id_13', 'id_14', 'id_15', 'id_16', 'id_17', 'id_18', 'id_19', 'id_20', 'id_21', 'id_22', 'id_23', 'id_24'\n",
    "                    , 'id_25', 'id_26', 'id_27', 'id_28', 'id_29', 'id_30', 'id_31', 'id_32', 'id_33', 'id_34', 'id_35', 'id_36', 'id_37'\n",
    "                    , 'id_38']\n",
    "\n",
    "    exclude = ['TransactionID', 'TransactionDT', 'isFraud']\n",
    "\n",
    "    if(training):\n",
    "        # binary categorical if more than 80% NAs (only numerical)\n",
    "        col_na = train.isna().sum()\n",
    "        to_replace = col_na[(col_na / train.shape[0]) > 0.8].index\n",
    "        to_replace = [f for f in to_replace if f not in cat_features]\n",
    "        print(to_replace)\n",
    "        \n",
    "    num_features = [f for f in train.columns if (f not in to_replace) & (f not in cat_features) & (f not in exclude)]\n",
    "\n",
    "    train[cat_features].astype(str)\n",
    "    train[to_replace].astype(str)\n",
    "    train[num_features].astype(np.float)\n",
    "    \n",
    "    # fill numeric NAs with median\n",
    "    for tab in num_features:\n",
    "        train.loc[train[tab].isnull(), tab] = train[tab].median()\n",
    "\n",
    "    # fill categorical NAs with \"m\" for missing and \"nm\" for not missing\n",
    "    for tab in cat_features:\n",
    "        train.loc[train[tab].isnull(), tab] = \"m\"\n",
    "    for tab in to_replace:\n",
    "        train.loc[train[tab].notnull(), tab] = \"nm\"\n",
    "        train.loc[train[tab].isnull(), tab] = \"m\"\n",
    "    \n",
    "    if(training): train.drop(columns=['TransactionID', 'TransactionDT'], axis=1, inplace=True)\n",
    "    else: train.drop(columns=['TransactionDT'], axis=1, inplace=True)\n",
    "        \n",
    "    cat_features = train.select_dtypes(exclude=np.number).columns\n",
    "    \n",
    "    return train, num_features, cat_features"
   ]
  },
  {
   "cell_type": "code",
   "execution_count": 9,
   "metadata": {},
   "outputs": [
    {
     "name": "stdout",
     "output_type": "stream",
     "text": [
      "['dist2', 'D6', 'D7', 'D8', 'D9', 'D12', 'D13', 'D14', 'V138', 'V139', 'V140', 'V141', 'V142', 'V143', 'V144', 'V145', 'V146', 'V147', 'V148', 'V149', 'V150', 'V151', 'V152', 'V153', 'V154', 'V155', 'V156', 'V157', 'V158', 'V159', 'V160', 'V161', 'V162', 'V163', 'V164', 'V165', 'V166', 'V322', 'V323', 'V324', 'V325', 'V326', 'V327', 'V328', 'V329', 'V330', 'V331', 'V332', 'V333', 'V334', 'V335', 'V336', 'V337', 'V338', 'V339', 'id_03', 'id_04', 'id_07', 'id_08', 'id_09', 'id_10']\n"
     ]
    },
    {
     "data": {
      "text/plain": [
       "0"
      ]
     },
     "execution_count": 9,
     "metadata": {},
     "output_type": "execute_result"
    }
   ],
   "source": [
    "train, num_features, cat_features = preprocessData(trainTR, trainID)\n",
    "del trainTR; del trainID\n",
    "gc.collect()"
   ]
  },
  {
   "cell_type": "code",
   "execution_count": 10,
   "metadata": {},
   "outputs": [
    {
     "name": "stdout",
     "output_type": "stream",
     "text": [
      "20663\n",
      "569877\n",
      "train NaN: 0\n",
      "fraud NaN: 0\n"
     ]
    }
   ],
   "source": [
    "#Separate fraud from normal transactions\n",
    "\n",
    "fraudData = train.loc[train['isFraud'] == 1, :]\n",
    "train = train.loc[train['isFraud'] == 0, :]\n",
    "print(len(fraudData))\n",
    "print(len(train))\n",
    "print(\"train NaN:\", train.isna().sum().sum())\n",
    "print(\"fraud NaN:\", fraudData.isna().sum().sum())"
   ]
  },
  {
   "cell_type": "code",
   "execution_count": 11,
   "metadata": {},
   "outputs": [
    {
     "name": "stdout",
     "output_type": "stream",
     "text": [
      "512889 train examples\n",
      "56988 validation examples\n"
     ]
    },
    {
     "data": {
      "text/plain": [
       "0"
      ]
     },
     "execution_count": 11,
     "metadata": {},
     "output_type": "execute_result"
    }
   ],
   "source": [
    "from sklearn.model_selection import train_test_split\n",
    "\n",
    "train_X, val_X, train_y, val_y = train_test_split(train[num_features+list(cat_features)], train['isFraud'], test_size=0.1)\n",
    "fraudVal = fraudData['isFraud']\n",
    "fraudData = fraudData[num_features+list(cat_features)]\n",
    "print(len(train_X), 'train examples')\n",
    "print(len(val_X), 'validation examples')\n",
    "\n",
    "del train\n",
    "gc.collect()"
   ]
  },
  {
   "cell_type": "code",
   "execution_count": 12,
   "metadata": {},
   "outputs": [
    {
     "name": "stdout",
     "output_type": "stream",
     "text": [
      "(512889, 679) (56988, 679)\n"
     ]
    }
   ],
   "source": [
    "from category_encoders.binary import BinaryEncoder\n",
    "from sklearn.compose import ColumnTransformer\n",
    "from sklearn.preprocessing import StandardScaler\n",
    "\n",
    "def makeTransformer():\n",
    "    # Numerical columns will be scaled by StandardScaler\n",
    "    scaler = StandardScaler()\n",
    "\n",
    "    # Categorical values will be encoded using Binary Encoder\n",
    "    bie = BinaryEncoder()\n",
    "\n",
    "    column_trans = ColumnTransformer(\n",
    "        [('scaler',scaler, num_features),\n",
    "        ('bie', bie, cat_features)], remainder='passthrough', n_jobs=-1)\n",
    "    \n",
    "    return column_trans\n",
    "\n",
    "column_trans = makeTransformer()\n",
    "\n",
    "train_X_transformed = column_trans.fit_transform(train_X)\n",
    "val_X_transformed = column_trans.transform(val_X)\n",
    "\n",
    "del num_features; del cat_features\n",
    "del val_X; del train_X\n",
    "gc.collect()\n",
    "\n",
    "print(train_X_transformed.shape, val_X_transformed.shape)"
   ]
  },
  {
   "cell_type": "markdown",
   "metadata": {},
   "source": [
    "<h2>3. Create and train the model</h2>\n",
    "\n",
    "The fun begins here (in my opinion), we will create an autoencoder and compute the mean squared error of the reconstructed data."
   ]
  },
  {
   "cell_type": "code",
   "execution_count": 13,
   "metadata": {},
   "outputs": [
    {
     "name": "stdout",
     "output_type": "stream",
     "text": [
      "Model: \"Autoencoder\"\n",
      "_________________________________________________________________\n",
      "Layer (type)                 Output Shape              Param #   \n",
      "=================================================================\n",
      "input_1 (InputLayer)         [(None, 679)]             0         \n",
      "_________________________________________________________________\n",
      "dense (Dense)                (None, 544)               369920    \n",
      "_________________________________________________________________\n",
      "dense_1 (Dense)              (None, 352)               191840    \n",
      "_________________________________________________________________\n",
      "dense_2 (Dense)              (None, 160)               56480     \n",
      "_________________________________________________________________\n",
      "dense_3 (Dense)              (None, 96)                15456     \n",
      "_________________________________________________________________\n",
      "dense_4 (Dense)              (None, 160)               15520     \n",
      "_________________________________________________________________\n",
      "dense_5 (Dense)              (None, 352)               56672     \n",
      "_________________________________________________________________\n",
      "dense_6 (Dense)              (None, 544)               192032    \n",
      "_________________________________________________________________\n",
      "dense_7 (Dense)              (None, 679)               370055    \n",
      "=================================================================\n",
      "Total params: 1,267,975\n",
      "Trainable params: 1,267,975\n",
      "Non-trainable params: 0\n",
      "_________________________________________________________________\n"
     ]
    }
   ],
   "source": [
    "import tensorflow as tf\n",
    "from tensorflow.keras import layers\n",
    "from tensorflow.keras import Model\n",
    "\n",
    "def makeModel():\n",
    "    inputs = layers.Input(train_X_transformed.shape[1])\n",
    "    x = layers.Dense(544, activation=\"relu\", activity_regularizer=tf.keras.regularizers.l1(1e-5))(inputs)\n",
    "    x = layers.Dense(352, activation=\"relu\", activity_regularizer=tf.keras.regularizers.l1(1e-5))(x)\n",
    "    x = layers.Dense(160, activation=\"relu\", activity_regularizer=tf.keras.regularizers.l1(1e-5))(x)\n",
    "    x = layers.Dense(96, activation=\"relu\", activity_regularizer=tf.keras.regularizers.l1(1e-5))(x)\n",
    "    x = layers.Dense(160, activation=\"relu\", activity_regularizer=tf.keras.regularizers.l1(1e-5))(x)\n",
    "    x = layers.Dense(352, activation=\"relu\", activity_regularizer=tf.keras.regularizers.l1(1e-5))(x)\n",
    "    x = layers.Dense(544, activation=\"relu\", activity_regularizer=tf.keras.regularizers.l1(1e-5))(x)\n",
    "    output = layers.Dense(train_X_transformed.shape[1], activation=\"relu\", activity_regularizer=tf.keras.regularizers.l1(1e-5))(x)\n",
    "\n",
    "    model = Model(inputs, output, name=\"Autoencoder\")\n",
    "    return model\n",
    "\n",
    "model = makeModel()\n",
    "model.summary()"
   ]
  },
  {
   "cell_type": "code",
   "execution_count": 14,
   "metadata": {},
   "outputs": [
    {
     "name": "stdout",
     "output_type": "stream",
     "text": [
      "Epoch 1/50\n",
      "501/501 [==============================] - 21s 35ms/step - loss: 0.3271 - val_loss: 0.2742\n",
      "Epoch 2/50\n",
      "501/501 [==============================] - 14s 28ms/step - loss: 0.2756 - val_loss: 0.2608\n",
      "Epoch 3/50\n",
      "501/501 [==============================] - 18s 36ms/step - loss: 0.2733 - val_loss: 0.2583\n",
      "Epoch 4/50\n",
      "501/501 [==============================] - 20s 41ms/step - loss: 0.2620 - val_loss: 0.2412\n",
      "Epoch 5/50\n",
      "501/501 [==============================] - 14s 28ms/step - loss: 0.2488 - val_loss: 0.2386\n",
      "Epoch 6/50\n",
      "501/501 [==============================] - 15s 29ms/step - loss: 0.2518 - val_loss: 0.2367\n",
      "Epoch 7/50\n",
      "501/501 [==============================] - 15s 30ms/step - loss: 0.2431 - val_loss: 0.6533\n",
      "Epoch 8/50\n",
      "501/501 [==============================] - 14s 27ms/step - loss: 0.2825 - val_loss: 0.2412\n",
      "Epoch 9/50\n",
      "501/501 [==============================] - 14s 27ms/step - loss: 0.2387 - val_loss: 0.2279\n",
      "Epoch 10/50\n",
      "501/501 [==============================] - 14s 27ms/step - loss: 0.2323 - val_loss: 0.2162\n",
      "Epoch 11/50\n",
      "501/501 [==============================] - 15s 29ms/step - loss: 0.2461 - val_loss: 0.2171\n",
      "Epoch 12/50\n",
      "501/501 [==============================] - 14s 28ms/step - loss: 0.2253 - val_loss: 0.2125\n",
      "Epoch 13/50\n",
      "501/501 [==============================] - 14s 27ms/step - loss: 0.2230 - val_loss: 0.2166\n",
      "Epoch 14/50\n",
      "501/501 [==============================] - 14s 27ms/step - loss: 0.2381 - val_loss: 0.2164\n",
      "Epoch 15/50\n",
      "501/501 [==============================] - 14s 27ms/step - loss: 0.2209 - val_loss: 0.2028\n",
      "Epoch 16/50\n",
      "501/501 [==============================] - 14s 27ms/step - loss: 0.2170 - val_loss: 0.2118\n",
      "Epoch 17/50\n",
      "501/501 [==============================] - 14s 27ms/step - loss: 0.2144 - val_loss: 0.2019\n",
      "Epoch 18/50\n",
      "501/501 [==============================] - 14s 27ms/step - loss: 0.2139 - val_loss: 0.2108\n",
      "Epoch 19/50\n",
      "501/501 [==============================] - 14s 27ms/step - loss: 0.2143 - val_loss: 0.2049\n",
      "Epoch 20/50\n",
      "501/501 [==============================] - 14s 27ms/step - loss: 0.2089 - val_loss: 0.1947\n",
      "Epoch 21/50\n",
      "501/501 [==============================] - 14s 27ms/step - loss: 0.2086 - val_loss: 0.2015\n",
      "Epoch 22/50\n",
      "501/501 [==============================] - 14s 27ms/step - loss: 0.2117 - val_loss: 0.2029\n",
      "Epoch 23/50\n",
      "501/501 [==============================] - 14s 27ms/step - loss: 0.2173 - val_loss: 0.2020\n",
      "Epoch 24/50\n",
      "501/501 [==============================] - 14s 27ms/step - loss: 0.2134 - val_loss: 0.1987\n",
      "Epoch 25/50\n",
      "501/501 [==============================] - 14s 27ms/step - loss: 0.2095 - val_loss: 0.1979\n",
      "Epoch 26/50\n",
      "501/501 [==============================] - 14s 27ms/step - loss: 0.2129 - val_loss: 0.1956\n",
      "Epoch 27/50\n",
      "501/501 [==============================] - 14s 27ms/step - loss: 0.2084 - val_loss: 0.1973\n",
      "Epoch 28/50\n",
      "501/501 [==============================] - 14s 27ms/step - loss: 0.2425 - val_loss: 0.1965\n",
      "Epoch 29/50\n",
      "501/501 [==============================] - 14s 27ms/step - loss: 0.2053 - val_loss: 0.1932\n",
      "Epoch 30/50\n",
      "501/501 [==============================] - 14s 27ms/step - loss: 0.2024 - val_loss: 0.1892\n",
      "Epoch 31/50\n",
      "501/501 [==============================] - 14s 27ms/step - loss: 0.2116 - val_loss: 0.1904\n",
      "Epoch 32/50\n",
      "501/501 [==============================] - 14s 27ms/step - loss: 0.1956 - val_loss: 0.1884\n",
      "Epoch 33/50\n",
      "501/501 [==============================] - 14s 27ms/step - loss: 0.1975 - val_loss: 0.1840\n",
      "Epoch 34/50\n",
      "501/501 [==============================] - 14s 27ms/step - loss: 0.1963 - val_loss: 0.2004\n",
      "Epoch 35/50\n",
      "501/501 [==============================] - 14s 27ms/step - loss: 0.1976 - val_loss: 0.1875\n",
      "Epoch 36/50\n",
      "501/501 [==============================] - 14s 27ms/step - loss: 0.2024 - val_loss: 0.2041\n",
      "Epoch 37/50\n",
      "501/501 [==============================] - 14s 27ms/step - loss: 0.2043 - val_loss: 0.2110\n",
      "Epoch 38/50\n",
      "501/501 [==============================] - 14s 27ms/step - loss: 0.2041 - val_loss: 0.1897\n",
      "Epoch 39/50\n",
      "501/501 [==============================] - 14s 27ms/step - loss: 0.1946 - val_loss: 0.1837\n",
      "Epoch 40/50\n",
      "501/501 [==============================] - 16s 31ms/step - loss: 0.1994 - val_loss: 0.1854\n",
      "Epoch 41/50\n",
      "501/501 [==============================] - 15s 30ms/step - loss: 0.2002 - val_loss: 0.1841\n",
      "Epoch 42/50\n",
      "501/501 [==============================] - 14s 27ms/step - loss: 0.1919 - val_loss: 0.1919\n",
      "Epoch 43/50\n",
      "501/501 [==============================] - 14s 27ms/step - loss: 0.1958 - val_loss: 0.1822\n",
      "Epoch 44/50\n",
      "501/501 [==============================] - 14s 27ms/step - loss: 0.2052 - val_loss: 0.1855\n",
      "Epoch 45/50\n",
      "501/501 [==============================] - 14s 27ms/step - loss: 0.1987 - val_loss: 0.2569\n",
      "Epoch 46/50\n",
      "501/501 [==============================] - 14s 29ms/step - loss: 0.1951 - val_loss: 0.1793\n",
      "Epoch 47/50\n",
      "501/501 [==============================] - 14s 28ms/step - loss: 0.1963 - val_loss: 0.1767\n",
      "Epoch 48/50\n",
      "501/501 [==============================] - 14s 27ms/step - loss: 0.1835 - val_loss: 0.1821\n",
      "Epoch 49/50\n",
      "501/501 [==============================] - 14s 27ms/step - loss: 0.1931 - val_loss: 0.1824\n",
      "Epoch 50/50\n",
      "501/501 [==============================] - 14s 27ms/step - loss: 0.1852 - val_loss: 0.1919\n"
     ]
    }
   ],
   "source": [
    "model.compile(\n",
    "    optimizer = 'adam',\n",
    "    loss='mean_squared_error')\n",
    "\n",
    "history = model.fit(\n",
    "    x=train_X_transformed,\n",
    "    y=train_X_transformed,\n",
    "    validation_data=(val_X_transformed, val_X_transformed),\n",
    "    batch_size=1024,\n",
    "    epochs=50)"
   ]
  },
  {
   "cell_type": "code",
   "execution_count": 15,
   "metadata": {},
   "outputs": [],
   "source": [
    "model.save_weights(\"autoencoder_weights.h5\")"
   ]
  },
  {
   "cell_type": "code",
   "execution_count": 16,
   "metadata": {},
   "outputs": [],
   "source": [
    "model.load_weights(\"autoencoder_weights.h5\")"
   ]
  },
  {
   "cell_type": "code",
   "execution_count": 17,
   "metadata": {},
   "outputs": [
    {
     "data": {
      "image/png": "[encoded data removed]",
      "text/plain": [
       "<Figure size 720x360 with 1 Axes>"
      ]
     },
     "metadata": {
      "needs_background": "light"
     },
     "output_type": "display_data"
    }
   ],
   "source": [
    "import matplotlib.pyplot as plt\n",
    "\n",
    "def plotHistory():\n",
    "    lossV = history.history['loss']\n",
    "    epochs = range(1, len(lossV)+1)\n",
    "\n",
    "    val_lossV = history.history['val_loss']\n",
    "\n",
    "    plt.figure(figsize=(10, 5))\n",
    "    plt.plot(epochs, lossV, label='Training Loss')\n",
    "    plt.plot(epochs, val_lossV, label='Validation Loss')\n",
    "    plt.xlabel('Epochs')\n",
    "    plt.ylabel('Loss')\n",
    "    plt.legend()\n",
    "    \n",
    "plotHistory()"
   ]
  },
  {
   "cell_type": "markdown",
   "metadata": {},
   "source": [
    "<h2>4. Determine the threshold for fraud data</h2>\n",
    "\n",
    "To finish we need to determine the threshold (for fraud data) of the reconstruction error (mean squared error)"
   ]
  },
  {
   "cell_type": "code",
   "execution_count": 19,
   "metadata": {},
   "outputs": [
    {
     "name": "stdout",
     "output_type": "stream",
     "text": [
      "tf.Tensor([0.04235995 0.08396806 0.18531188 ... 0.04840187 0.21672199 0.02379264], shape=(56988,), dtype=float64)\n",
      "Threshold: 0.18841933732137245\n"
     ]
    }
   ],
   "source": [
    "def find_threshold(model, x_train_scaled):\n",
    "    reconstructions = model.predict(x_train_scaled)\n",
    "    reconstruction_errors = tf.keras.losses.mse(reconstructions, x_train_scaled)\n",
    "    print(reconstruction_errors)\n",
    "    threshold = np.mean(reconstruction_errors.numpy())\n",
    "    return threshold\n",
    "\n",
    "gc.collect()\n",
    "\n",
    "threshold = find_threshold(model, val_X_transformed)\n",
    "print(f\"Threshold: {threshold}\")"
   ]
  },
  {
   "cell_type": "markdown",
   "metadata": {},
   "source": [
    "<h2>5. Test the model !</h2>\n",
    "\n",
    "To conclude we will test the model on fraud data and on the test dataset"
   ]
  },
  {
   "cell_type": "code",
   "execution_count": 21,
   "metadata": {},
   "outputs": [
    {
     "name": "stdout",
     "output_type": "stream",
     "text": [
      "fraud acc: 0.49997580215844745\n",
      "val acc: 0.8548115392714256\n"
     ]
    }
   ],
   "source": [
    "from sklearn.metrics import accuracy_score\n",
    "\n",
    "def get_predictions(model, x_test_scaled, threshold):\n",
    "    predictions = model.predict(x_test_scaled)\n",
    "    # provides losses of individual instances\n",
    "    predictions = tf.keras.losses.mse(predictions, x_test_scaled)\n",
    "    # 1 = anomaly, 0 = normal\n",
    "    anomaly_mask = pd.Series(predictions) > threshold\n",
    "    predictions = anomaly_mask.map(lambda x: 1.0 if x == True else 0.0)\n",
    "    return predictions\n",
    "\n",
    "gc.collect()\n",
    "\n",
    "fraudData_transformed = column_trans.transform(fraudData)\n",
    "predictions = get_predictions(model, fraudData_transformed, threshold)\n",
    "print('fraud acc:', accuracy_score(predictions, fraudVal))\n",
    "\n",
    "predictions = get_predictions(model, val_X_transformed, threshold)\n",
    "print('val acc:', accuracy_score(predictions, val_y))"
   ]
  },
  {
   "cell_type": "markdown",
   "metadata": {},
   "source": [
    "And now we are able to make predictions on transactions !\n",
    "\n",
    "Though, 50% of frauds will be detected and 15% of normal transaction will be misclassified which is not enough, in order to improve it we'll have to improve the feature engineering part, or change the model."
   ]
  },
  {
   "cell_type": "code",
   "execution_count": null,
   "metadata": {},
   "outputs": [],
   "source": []
  }
 ],
 "metadata": {
  "kernelspec": {
   "display_name": "Python 3 (ipykernel)",
   "language": "python",
   "name": "python3"
  },
  "language_info": {
   "codemirror_mode": {
    "name": "ipython",
    "version": 3
   },
   "file_extension": ".py",
   "mimetype": "text/x-python",
   "name": "python",
   "nbconvert_exporter": "python",
   "pygments_lexer": "ipython3",
   "version": "3.9.7"
  }
 },
 "nbformat": 4,
 "nbformat_minor": 4
}
